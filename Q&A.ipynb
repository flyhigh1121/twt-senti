{
 "cells": [
  {
   "cell_type": "code",
   "execution_count": 91,
   "metadata": {},
   "outputs": [],
   "source": [
    "import pandas as pd\n",
    "import os\n",
    "import numpy as np\n",
    "\n"
   ]
  },
  {
   "cell_type": "code",
   "execution_count": 92,
   "metadata": {},
   "outputs": [
    {
     "data": {
      "text/html": [
       "<div>\n",
       "<style scoped>\n",
       "    .dataframe tbody tr th:only-of-type {\n",
       "        vertical-align: middle;\n",
       "    }\n",
       "\n",
       "    .dataframe tbody tr th {\n",
       "        vertical-align: top;\n",
       "    }\n",
       "\n",
       "    .dataframe thead th {\n",
       "        text-align: right;\n",
       "    }\n",
       "</style>\n",
       "<table border=\"1\" class=\"dataframe\">\n",
       "  <thead>\n",
       "    <tr style=\"text-align: right;\">\n",
       "      <th></th>\n",
       "      <th>conv_id</th>\n",
       "      <th>tag_main</th>\n",
       "      <th>tag_detail</th>\n",
       "      <th>country</th>\n",
       "      <th>conversation</th>\n",
       "    </tr>\n",
       "  </thead>\n",
       "  <tbody>\n",
       "    <tr>\n",
       "      <th>0</th>\n",
       "      <td>10927721</td>\n",
       "      <td>product</td>\n",
       "      <td>product_information</td>\n",
       "      <td>France</td>\n",
       "      <td>visitor: bonjour, le sac a dos trail xp14 lady...</td>\n",
       "    </tr>\n",
       "    <tr>\n",
       "      <th>1</th>\n",
       "      <td>10933035</td>\n",
       "      <td>product</td>\n",
       "      <td>product_information</td>\n",
       "      <td>France</td>\n",
       "      <td>visitor: bonjour quel magazin à paris à le plu...</td>\n",
       "    </tr>\n",
       "    <tr>\n",
       "      <th>2</th>\n",
       "      <td>10933115</td>\n",
       "      <td>product</td>\n",
       "      <td>product_help</td>\n",
       "      <td>France</td>\n",
       "      <td>visitor: comment  faire pour rectifier une err...</td>\n",
       "    </tr>\n",
       "    <tr>\n",
       "      <th>3</th>\n",
       "      <td>10933279</td>\n",
       "      <td>product</td>\n",
       "      <td>product_help</td>\n",
       "      <td>France</td>\n",
       "      <td>visitor: peut-on le mrttre e, mode veille?ex j...</td>\n",
       "    </tr>\n",
       "    <tr>\n",
       "      <th>4</th>\n",
       "      <td>10933457</td>\n",
       "      <td>delivery</td>\n",
       "      <td>delivery</td>\n",
       "      <td>France</td>\n",
       "      <td>visitor: bj je voie pas mode livraison domicil...</td>\n",
       "    </tr>\n",
       "  </tbody>\n",
       "</table>\n",
       "</div>"
      ],
      "text/plain": [
       "    conv_id  tag_main           tag_detail country  \\\n",
       "0  10927721   product  product_information  France   \n",
       "1  10933035   product  product_information  France   \n",
       "2  10933115   product         product_help  France   \n",
       "3  10933279   product         product_help  France   \n",
       "4  10933457  delivery             delivery  France   \n",
       "\n",
       "                                        conversation  \n",
       "0  visitor: bonjour, le sac a dos trail xp14 lady...  \n",
       "1  visitor: bonjour quel magazin à paris à le plu...  \n",
       "2  visitor: comment  faire pour rectifier une err...  \n",
       "3  visitor: peut-on le mrttre e, mode veille?ex j...  \n",
       "4  visitor: bj je voie pas mode livraison domicil...  "
      ]
     },
     "execution_count": 92,
     "metadata": {},
     "output_type": "execute_result"
    }
   ],
   "source": [
    "## import raw data and show the first 5 rows\n",
    "\n",
    "raw_data_file = '/home/jovyan/work/home/jovyan/echantillon.csv'\n",
    "\n",
    "df = pd.read_csv(raw_data_file, sep = ';')\n",
    "\n",
    "df.head()"
   ]
  },
  {
   "cell_type": "code",
   "execution_count": 93,
   "metadata": {},
   "outputs": [
    {
     "name": "stdout",
     "output_type": "stream",
     "text": [
      "Types of tag_deteil: {'delivery_mode', 'delivery_international', 'delivery_problem', 'delivery', 'delivery_fees', 'delivery_time'}\n"
     ]
    }
   ],
   "source": [
    "## choose a scenario \n",
    "\n",
    "scenario = 'delivery'\n",
    "\n",
    "scenario_df = df[df['tag_main'] == scenario]\n",
    "\n",
    "print (\"Types of tag_deteil: {}\".format(set(delivery_df['tag_detail'].tolist())))\n"
   ]
  },
  {
   "cell_type": "code",
   "execution_count": 165,
   "metadata": {},
   "outputs": [],
   "source": [
    "## separate and extract Q&A pairs\n",
    "\n",
    "scenario_df.head()\n",
    "\n",
    "\n",
    "def extract_Q_A_pairs(lst):\n",
    "    stripped_lst = [str(l).strip() for l in lst]\n",
    "    Q_pointer = A_pointer = 0\n",
    "    Q_list = []\n",
    "    A_list = []\n",
    "    \n",
    "    while (Q_pointer < len(lst)):\n",
    "    \n",
    "        while('visitor:' not in stripped_lst[Q_pointer]):  ##lst contains no visitor message (i.e., no question)\n",
    "                Q_pointer +=1\n",
    "                if Q_pointer >= len(stripped_lst):\n",
    "                    break\n",
    "\n",
    "        if Q_pointer >= len(stripped_lst):              \n",
    "            break\n",
    "        else:\n",
    "            Q_temp = stripped_lst[Q_pointer].split('visitor:')[1].strip()\n",
    "            A_pointer = Q_pointer+1\n",
    "            if A_pointer >= len(stripped_lst): ## lst contains only 1 visitor message but without operator message\n",
    "                                               ## i.e., question without corresponding answer\n",
    "                break\n",
    "            else:\n",
    "                while (A_pointer < len(lst)):\n",
    "                    if 'operator:' not in stripped_lst[A_pointer]:\n",
    "                        if 'visitor:' in stripped_lst[A_pointer]:\n",
    "                            Q_temp = Q_temp + \" \" +  stripped_lst[A_pointer].split('visitor:')[1].strip()  \n",
    "                        else:\n",
    "                            Q_temp = Q_temp\n",
    "                        A_pointer += 1\n",
    "                    else:\n",
    "                        break\n",
    "                if A_pointer >= len(lst):\n",
    "                    break\n",
    "                else:\n",
    "            \n",
    "                    Q_list.append(Q_temp)\n",
    "                    A_temp = stripped_lst[A_pointer].split('operator:')[1].strip() \n",
    "                    A_pointer = A_pointer +1\n",
    "                    while (A_pointer < len(lst)):\n",
    "                        if 'operator:' in stripped_lst[A_pointer]:\n",
    "                            if 'operator:' in stripped_lst[A_pointer]:\n",
    "                                A_temp = A_temp + \" \" + stripped_lst[A_pointer].split('operator:')[1].strip()\n",
    "                            else:\n",
    "                                A_temp = A_temp\n",
    "\n",
    "                            A_pointer += 1\n",
    "                        else:\n",
    "                            break\n",
    "                    A_list.append(A_temp)\n",
    "\n",
    "                Q_pointer = A_pointer\n",
    "\n",
    "                \n",
    "    return  (pd.DataFrame(np.column_stack([Q_list, A_list]), columns = ['Question', 'Answer'])) #(Q_list, A_list)\n",
    "\n",
    "    \n",
    "\n"
   ]
  },
  {
   "cell_type": "code",
   "execution_count": 166,
   "metadata": {},
   "outputs": [
    {
     "name": "stdout",
     "output_type": "stream",
     "text": [
      "time 46.98971962928772\n"
     ]
    }
   ],
   "source": [
    "import time\n",
    "\n",
    "start = time.time()\n",
    "file = '/home/jovyan/work/home/jovyan/Q_and_A_pairs.csv'\n",
    "\n",
    "df_all = pd.concat([extract_Q_A_pairs(scenario_df.iloc[i, -1].split('\\n')) for i in range(len(scenario_df))], ignore_index = True)\n",
    "\n",
    "df_all.to_csv(file, sep = ',')\n",
    "\n",
    "print ('time {}'.format(time.time()- start))\n",
    "\n"
   ]
  },
  {
   "cell_type": "code",
   "execution_count": null,
   "metadata": {},
   "outputs": [],
   "source": []
  }
 ],
 "metadata": {
  "kernelspec": {
   "display_name": "Python 3",
   "language": "python",
   "name": "python3"
  },
  "language_info": {
   "codemirror_mode": {
    "name": "ipython",
    "version": 3
   },
   "file_extension": ".py",
   "mimetype": "text/x-python",
   "name": "python",
   "nbconvert_exporter": "python",
   "pygments_lexer": "ipython3",
   "version": "3.6.3"
  }
 },
 "nbformat": 4,
 "nbformat_minor": 2
}
