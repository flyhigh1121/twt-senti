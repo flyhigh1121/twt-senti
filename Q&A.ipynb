{
 "cells": [
  {
   "cell_type": "code",
   "execution_count": 1,
   "metadata": {},
   "outputs": [],
   "source": [
    "import pandas as pd\n",
    "import os\n",
    "\n"
   ]
  },
  {
   "cell_type": "code",
   "execution_count": 14,
   "metadata": {
    "collapsed": true
   },
   "outputs": [
    {
     "data": {
      "text/plain": [
       "{'delivery',\n",
       " 'delivery_fees',\n",
       " 'delivery_international',\n",
       " 'delivery_mode',\n",
       " 'delivery_problem',\n",
       " 'delivery_time'}"
      ]
     },
     "execution_count": 14,
     "metadata": {},
     "output_type": "execute_result"
    }
   ],
   "source": [
    "## import raw data and show the first 5 rows\n",
    "\n",
    "raw_data_file = '/home/jovyan/work/home/jovyan/echantillon.csv'\n",
    "\n",
    "df = pd.read_csv(raw_data_file, sep = ';')\n",
    "\n",
    "df.head()"
   ]
  },
  {
   "cell_type": "code",
   "execution_count": 16,
   "metadata": {},
   "outputs": [
    {
     "name": "stdout",
     "output_type": "stream",
     "text": [
      "Types of tag_deteil: {'delivery_mode', 'delivery_international', 'delivery_problem', 'delivery', 'delivery_fees', 'delivery_time'}\n"
     ]
    }
   ],
   "source": [
    "## choose a scenario \n",
    "\n",
    "scenario = 'delivery'\n",
    "\n",
    "scenario_df = df[df['tag_main'] == scenario]\n",
    "\n",
    "print (\"Types of tag_deteil: {}\".format(set(delivery_df['tag_detail'].tolist())))\n"
   ]
  },
  {
   "cell_type": "code",
   "execution_count": 88,
   "metadata": {},
   "outputs": [
    {
     "data": {
      "text/plain": [
       "(['bonjour y a t’il un point relai à gignac (34) ou sinon, puis-je bénéficier de la livraison gratuite à domicile étant donné le montant de ma commande (118 \\x80)',\n",
       "  'il ya mondial relay chez &quot;fleurs et déco&quot; à gignac',\n",
       "  'oui, il ouvre à 16 heures...'],\n",
       " ['bonjour concernant le point relais, je vais regarder sur le site de mondial relay il semblerait qu’il y ait un point relais mais indisponible pour le moment la livraison n’est pas gratuite, cependant si votre commande n’est pas volumineuse, vous pouvez bénéficier de la livraison gratuite dans un magasin decathlon',\n",
       "  'oui mais il est pour le moment indisponible',\n",
       "  'il est indisponible sur le site de mondial relay, c’est à dire que vous ne pouvez pas le choisir pour le moment'])"
      ]
     },
     "execution_count": 88,
     "metadata": {},
     "output_type": "execute_result"
    }
   ],
   "source": [
    "## separate and extract Q&A pairs\n",
    "\n",
    "scenario_df.head()\n",
    "\n",
    "\n",
    "def extract_Q_A_pairs(lst):\n",
    "    stripped_lst = [str(l).strip() for l in lst]\n",
    "    Q_pointer = A_pointer = 0\n",
    "    Q_list = []\n",
    "    A_list = []\n",
    "    \n",
    "    while (Q_pointer < len(lst)):\n",
    "    \n",
    "        while('visitor:' not in stripped_lst[Q_pointer]):  ##lst contains no visitor message (i.e., no question)\n",
    "                Q_pointer +=1\n",
    "                if Q_pointer >= len(stripped_lst):\n",
    "                    break\n",
    "\n",
    "        if Q_pointer >= len(stripped_lst):              \n",
    "            break\n",
    "        else:\n",
    "            Q_temp = stripped_lst[Q_pointer].split('visitor:')[1].strip()\n",
    "            A_pointer = Q_pointer+1\n",
    "            if A_pointer >= len(stripped_lst): ## lst contains only 1 visitor message but without operator message\n",
    "                                               ## i.e., question without corresponding answer\n",
    "                break\n",
    "            else:\n",
    "                while (A_pointer < len(lst)):\n",
    "                    if 'operator:' not in stripped_lst[A_pointer]:\n",
    "                        Q_temp = Q_temp + \" \" +  stripped_lst[A_pointer].split('visitor:')[1].strip()\n",
    "                        A_pointer += 1\n",
    "                    else:\n",
    "                        break\n",
    "                Q_list.append(Q_temp)\n",
    "                A_temp = stripped_lst[A_pointer].split('operator:')[1].strip() \n",
    "                A_pointer = A_pointer +1\n",
    "                while (A_pointer < len(lst)):\n",
    "                    if 'operator:' in stripped_lst[A_pointer]:\n",
    "                        A_temp = A_temp + \" \" + stripped_lst[A_pointer].split('operator:')[1].strip()\n",
    "                        A_pointer += 1\n",
    "                    else:\n",
    "                        break\n",
    "                A_list.append(A_temp)\n",
    "                \n",
    "                Q_pointer = A_pointer\n",
    "\n",
    "                \n",
    "    return (Q_list, A_list)\n",
    "\n",
    "    \n",
    "\n",
    "extract_Q_A_pairs(scenario_df.iloc[3, -1].split('\\n'))"
   ]
  },
  {
   "cell_type": "code",
   "execution_count": 89,
   "metadata": {},
   "outputs": [
    {
     "data": {
      "text/plain": [
       "['visitor: bonjour',\n",
       " ' visitor: y a t’il un point relai à gignac (34) ou sinon, puis-je bénéficier de la livraison gratuite à domicile étant donné le montant de ma commande (118 \\x80)',\n",
       " ' operator: bonjour',\n",
       " ' operator: concernant le point relais, je vais regarder sur le site de mondial relay',\n",
       " ' operator: il semblerait qu’il y ait un point relais mais indisponible pour le moment',\n",
       " ' operator: la livraison n’est pas gratuite, cependant si votre commande n’est pas volumineuse, vous pouvez bénéficier de la livraison gratuite dans un magasin decathlon',\n",
       " ' visitor: il ya mondial relay chez &quot;fleurs et déco&quot; à gignac',\n",
       " ' operator: oui mais il est pour le moment indisponible',\n",
       " ' visitor: oui, il ouvre à 16 heures...',\n",
       " ' operator: il est indisponible sur le site de mondial relay, c’est à dire que vous ne pouvez pas le choisir',\n",
       " ' operator: pour le moment',\n",
       " ' visitor: dommage. merci']"
      ]
     },
     "execution_count": 89,
     "metadata": {},
     "output_type": "execute_result"
    }
   ],
   "source": [
    "lst = scenario_df.iloc[3, -1].split('\\n')\n",
    "\n",
    "lst"
   ]
  },
  {
   "cell_type": "code",
   "execution_count": null,
   "metadata": {},
   "outputs": [],
   "source": []
  },
  {
   "cell_type": "code",
   "execution_count": null,
   "metadata": {},
   "outputs": [],
   "source": []
  }
 ],
 "metadata": {
  "kernelspec": {
   "display_name": "Python 3",
   "language": "python",
   "name": "python3"
  },
  "language_info": {
   "codemirror_mode": {
    "name": "ipython",
    "version": 3
   },
   "file_extension": ".py",
   "mimetype": "text/x-python",
   "name": "python",
   "nbconvert_exporter": "python",
   "pygments_lexer": "ipython3",
   "version": "3.6.3"
  }
 },
 "nbformat": 4,
 "nbformat_minor": 2
}
